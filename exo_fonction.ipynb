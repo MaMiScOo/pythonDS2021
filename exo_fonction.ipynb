{
 "cells": [
  {
   "cell_type": "code",
   "execution_count": 19,
   "metadata": {},
   "outputs": [
    {
     "data": {
      "text/plain": [
       "{'Une': 2,\n",
       " 'fonction': 2,\n",
       " 'est': 1,\n",
       " 'une': 1,\n",
       " 'petite': 1,\n",
       " 'boite': 1,\n",
       " 'prenant': 1,\n",
       " 'un': 4,\n",
       " 'certain': 1,\n",
       " 'nombre': 1,\n",
       " 'de': 1,\n",
       " 'paramettre': 1,\n",
       " 'suivant': 1,\n",
       " 'les': 1,\n",
       " 'algorithmes': 1,\n",
       " 'pour': 1,\n",
       " 'produire': 1,\n",
       " 'resultat.Une': 1,\n",
       " 'fait': 1,\n",
       " 'traitement': 1,\n",
       " 'a': 11,\n",
       " 'la': 1,\n",
       " 'fois': 1}"
      ]
     },
     "execution_count": 19,
     "metadata": {},
     "output_type": "execute_result"
    }
   ],
   "source": [
    "def mot_freq(text):\n",
    "    return {word:text.count(word) for word in text.split()}\n",
    "mot_freq(\"Une fonction est une petite boite prenant un certain nombre de paramettre suivant les algorithmes pour produire un resultat.Une fonction fait un traitement a la fois\")\n"
   ]
  },
  {
   "cell_type": "code",
   "execution_count": null,
   "metadata": {},
   "outputs": [],
   "source": []
  }
 ],
 "metadata": {
  "kernelspec": {
   "display_name": "Python 3",
   "language": "python",
   "name": "python3"
  },
  "language_info": {
   "codemirror_mode": {
    "name": "ipython",
    "version": 3
   },
   "file_extension": ".py",
   "mimetype": "text/x-python",
   "name": "python",
   "nbconvert_exporter": "python",
   "pygments_lexer": "ipython3",
   "version": "3.8.5"
  }
 },
 "nbformat": 4,
 "nbformat_minor": 4
}
